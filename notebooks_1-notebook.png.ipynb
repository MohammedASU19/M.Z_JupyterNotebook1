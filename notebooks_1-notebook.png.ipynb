{
  "metadata": {
    "toc-autonumbering": false,
    "language_info": {
      "codemirror_mode": {
        "name": "python",
        "version": 3
      },
      "file_extension": ".py",
      "mimetype": "text/x-python",
      "name": "python",
      "nbconvert_exporter": "python",
      "pygments_lexer": "ipython3",
      "version": "3.8"
    },
    "kernelspec": {
      "name": "python",
      "display_name": "Python (Pyodide)",
      "language": "python"
    }
  },
  "nbformat_minor": 4,
  "nbformat": 4,
  "cells": [
    {
      "cell_type": "markdown",
      "source": "Jupyter notebook title1",
      "metadata": {}
    },
    {
      "cell_type": "markdown",
      "source": "Hello, Welcome to my Jupyter note book. I'm Mohammed, this is my introduction.",
      "metadata": {}
    },
    {
      "cell_type": "markdown",
      "source": "An ordered list of data science languages:\n- R\n- Python\n- Julia",
      "metadata": {}
    },
    {
      "cell_type": "markdown",
      "source": "An ordered list of data science libraries:\n- NumPy\n- Pandas\n- Matplotlib\n- Seaborn\n- Scikit-learn\n- TensorFlow\n- PyTorch",
      "metadata": {
        "tags": []
      }
    },
    {
      "cell_type": "markdown",
      "source": "Table of data science tools:\n| Tool         |\n|--------------|\n| Jupyter      | \n| VS Code      | \n| Tableau      | \n| SQL          | \n",
      "metadata": {}
    },
    {
      "cell_type": "markdown",
      "source": "Ex7. This will be an introduction to arithmetic expressions",
      "metadata": {}
    },
    {
      "cell_type": "code",
      "source": "#This is an example to multiply\nresult_multiply = 10 * 10\n#This is an example to add\nresult_add = 10 + 10\n\nresult_multiply, result_add",
      "metadata": {
        "trusted": true
      },
      "execution_count": 8,
      "outputs": [
        {
          "execution_count": 8,
          "output_type": "execute_result",
          "data": {
            "text/plain": "(100, 20)"
          },
          "metadata": {}
        }
      ]
    },
    {
      "cell_type": "code",
      "source": "#to conver minutes to hours:\nminutes = 180\nhours = minutes / 60\nhours",
      "metadata": {
        "trusted": true
      },
      "execution_count": 9,
      "outputs": [
        {
          "execution_count": 9,
          "output_type": "execute_result",
          "data": {
            "text/plain": "3.0"
          },
          "metadata": {}
        }
      ]
    },
    {
      "cell_type": "markdown",
      "source": "This is Ex10. Unordered list.\nTo Explore data science languages and libraries.\nTo Understand basic arithmetic expressions in Python.\nTo Perform simple mathematical operations.\nTo Convert units in Python.\n",
      "metadata": {}
    },
    {
      "cell_type": "markdown",
      "source": "This Jupyter notebook was created by Mohammed Z.",
      "metadata": {}
    }
  ]
}